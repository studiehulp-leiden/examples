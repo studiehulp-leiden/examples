{
 "cells":[
  {
   "cell_type":"code",
   "source":[
    "import random\n",
    "import pandas as pd\n",
    "import seaborn as sns\n",
    "import matplotlib.pyplot as plt\n",
    "from scipy.stats import mannwhitneyu\n",
    "\n",
    "num_questions = 4\n",
    "question_columns = [f\"Q{i}\" for i in range(1, num_questions + 1)]\n",
    "total_participants = 100\n",
    "\n",
    "def generate_random_data():\n",
    "    data = []\n",
    "\n",
    "    for participant_id in range(total_participants):\n",
    "        answers = [random.randint(1, 5) for _ in range(num_questions)]\n",
    "        \n",
    "        group = 0\n",
    "        if random.random() > 0.5 and answers[0] + answers[1] > 6:\n",
    "            group = 1\n",
    "        \n",
    "        data.append([participant_id, group] + answers)\n",
    "\n",
    "    columns = [\"Participant_ID\", \"Group\"] + question_columns\n",
    "    return pd.DataFrame(data, columns=columns)\n",
    "\n",
    "df = generate_random_data()\n",
    "df.head()"
   ],
   "execution_count":1,
   "outputs":[
    {
     "data":{
      "text\/html":[
       "<div>\n",
       "<style scoped>\n",
       "    .dataframe tbody tr th:only-of-type {\n",
       "        vertical-align: middle;\n",
       "    }\n",
       "\n",
       "    .dataframe tbody tr th {\n",
       "        vertical-align: top;\n",
       "    }\n",
       "\n",
       "    .dataframe thead th {\n",
       "        text-align: right;\n",
       "    }\n",
       "<\/style>\n",
       "<table border=\"1\" class=\"dataframe\">\n",
       "  <thead>\n",
       "    <tr style=\"text-align: right;\">\n",
       "      <th><\/th>\n",
       "      <th>Participant_ID<\/th>\n",
       "      <th>Group<\/th>\n",
       "      <th>Q1<\/th>\n",
       "      <th>Q2<\/th>\n",
       "      <th>Q3<\/th>\n",
       "      <th>Q4<\/th>\n",
       "    <\/tr>\n",
       "  <\/thead>\n",
       "  <tbody>\n",
       "    <tr>\n",
       "      <th>0<\/th>\n",
       "      <td>0<\/td>\n",
       "      <td>1<\/td>\n",
       "      <td>5<\/td>\n",
       "      <td>3<\/td>\n",
       "      <td>4<\/td>\n",
       "      <td>2<\/td>\n",
       "    <\/tr>\n",
       "    <tr>\n",
       "      <th>1<\/th>\n",
       "      <td>1<\/td>\n",
       "      <td>1<\/td>\n",
       "      <td>4<\/td>\n",
       "      <td>4<\/td>\n",
       "      <td>1<\/td>\n",
       "      <td>1<\/td>\n",
       "    <\/tr>\n",
       "    <tr>\n",
       "      <th>2<\/th>\n",
       "      <td>2<\/td>\n",
       "      <td>1<\/td>\n",
       "      <td>5<\/td>\n",
       "      <td>5<\/td>\n",
       "      <td>5<\/td>\n",
       "      <td>3<\/td>\n",
       "    <\/tr>\n",
       "    <tr>\n",
       "      <th>3<\/th>\n",
       "      <td>3<\/td>\n",
       "      <td>0<\/td>\n",
       "      <td>5<\/td>\n",
       "      <td>4<\/td>\n",
       "      <td>3<\/td>\n",
       "      <td>5<\/td>\n",
       "    <\/tr>\n",
       "    <tr>\n",
       "      <th>4<\/th>\n",
       "      <td>4<\/td>\n",
       "      <td>0<\/td>\n",
       "      <td>3<\/td>\n",
       "      <td>4<\/td>\n",
       "      <td>1<\/td>\n",
       "      <td>1<\/td>\n",
       "    <\/tr>\n",
       "  <\/tbody>\n",
       "<\/table>\n",
       "<\/div>"
      ]
     },
     "metadata":{
      
     },
     "output_type":"display_data"
    }
   ],
   "metadata":{
    "datalore":{
     "node_id":"4SDhuRFrPfX3mYK2v1JL6q",
     "type":"CODE",
     "hide_input_from_viewers":true,
     "hide_output_from_viewers":true
    }
   }
  },
  {
   "cell_type":"code",
   "source":[
    "df.Group.value_counts()"
   ],
   "execution_count":2,
   "outputs":[
    {
     "data":{
      "text\/html":[
       "<pre>0    78\n",
       "1    22\n",
       "Name: Group, dtype: int64<\/pre>"
      ]
     },
     "metadata":{
      
     },
     "output_type":"display_data"
    }
   ],
   "metadata":{
    "datalore":{
     "node_id":"PstDBcDmjlT99zcIN9Lg5s",
     "type":"CODE",
     "hide_input_from_viewers":true,
     "hide_output_from_viewers":true
    }
   }
  },
  {
   "cell_type":"code",
   "source":[
    "df_long = pd.melt(df, id_vars=[\"Group\"], value_vars=question_columns)\n",
    "df_long.head()"
   ],
   "execution_count":3,
   "outputs":[
    {
     "data":{
      "text\/html":[
       "<div>\n",
       "<style scoped>\n",
       "    .dataframe tbody tr th:only-of-type {\n",
       "        vertical-align: middle;\n",
       "    }\n",
       "\n",
       "    .dataframe tbody tr th {\n",
       "        vertical-align: top;\n",
       "    }\n",
       "\n",
       "    .dataframe thead th {\n",
       "        text-align: right;\n",
       "    }\n",
       "<\/style>\n",
       "<table border=\"1\" class=\"dataframe\">\n",
       "  <thead>\n",
       "    <tr style=\"text-align: right;\">\n",
       "      <th><\/th>\n",
       "      <th>Group<\/th>\n",
       "      <th>variable<\/th>\n",
       "      <th>value<\/th>\n",
       "    <\/tr>\n",
       "  <\/thead>\n",
       "  <tbody>\n",
       "    <tr>\n",
       "      <th>0<\/th>\n",
       "      <td>1<\/td>\n",
       "      <td>Q1<\/td>\n",
       "      <td>5<\/td>\n",
       "    <\/tr>\n",
       "    <tr>\n",
       "      <th>1<\/th>\n",
       "      <td>1<\/td>\n",
       "      <td>Q1<\/td>\n",
       "      <td>4<\/td>\n",
       "    <\/tr>\n",
       "    <tr>\n",
       "      <th>2<\/th>\n",
       "      <td>1<\/td>\n",
       "      <td>Q1<\/td>\n",
       "      <td>5<\/td>\n",
       "    <\/tr>\n",
       "    <tr>\n",
       "      <th>3<\/th>\n",
       "      <td>0<\/td>\n",
       "      <td>Q1<\/td>\n",
       "      <td>5<\/td>\n",
       "    <\/tr>\n",
       "    <tr>\n",
       "      <th>4<\/th>\n",
       "      <td>0<\/td>\n",
       "      <td>Q1<\/td>\n",
       "      <td>3<\/td>\n",
       "    <\/tr>\n",
       "  <\/tbody>\n",
       "<\/table>\n",
       "<\/div>"
      ]
     },
     "metadata":{
      
     },
     "output_type":"display_data"
    }
   ],
   "metadata":{
    "datalore":{
     "node_id":"7WMJt4I94c7uKbi1vmtjBI",
     "type":"CODE",
     "hide_input_from_viewers":true,
     "hide_output_from_viewers":true
    }
   }
  },
  {
   "cell_type":"code",
   "source":[
    "# Create box plots\n",
    "plt.figure(figsize=(12, 8))\n",
    "sns.boxplot(x=\"variable\", y=\"value\", hue=\"Group\", data=df_long)\n",
    "plt.title(\"Box Plots of Questionnaire Data\")\n",
    "plt.xlabel(\"Questions\")\n",
    "plt.ylabel(\"Answers (Scale 1-5)\")\n",
    "plt.show()"
   ],
   "execution_count":4,
   "outputs":[
    {
     "data":{
      "image\/png":"[encoded data removed]"
     },
     "metadata":{
      "image\/png":{
       
      }
     },
     "output_type":"display_data"
    }
   ],
   "metadata":{
    "datalore":{
     "node_id":"05pvaPH0B8JXRZR06L3ZMk",
     "type":"CODE",
     "hide_input_from_viewers":true,
     "hide_output_from_viewers":true
    }
   }
  },
  {
   "cell_type":"code",
   "source":[
    "# Create separate count plots for each question\n",
    "g = sns.catplot(x=\"value\", hue=\"Group\", col=\"variable\", col_wrap=2, data=df_long, kind=\"count\", height=4, aspect=1.2)\n",
    "g.set_axis_labels(\"Answers (Scale 1-5)\", \"Frequency\")\n",
    "g.fig.suptitle(\"Frequency Table of Questionnaire Data\", y=1.02)\n",
    "plt.show()"
   ],
   "execution_count":5,
   "outputs":[
    {
     "data":{
      "image\/png":"[encoded data removed]"
     },
     "metadata":{
      "image\/png":{
       
      }
     },
     "output_type":"display_data"
    }
   ],
   "metadata":{
    "datalore":{
     "node_id":"T9WomnOQtxQr0Jd9PHY8oZ",
     "type":"CODE",
     "hide_input_from_viewers":true,
     "hide_output_from_viewers":true
    }
   }
  },
  {
   "cell_type":"code",
   "source":[
    "group_1_data = df[df['Group'] == 0]\n",
    "group_2_data = df[df['Group'] == 1]\n",
    "\n",
    "# Perform Mann-Whitney U test for each question\n",
    "test_results = {}\n",
    "for column in df.columns[2:]:\n",
    "    test_results[column] = mannwhitneyu(group_1_data[column], group_2_data[column], alternative='two-sided')\n",
    "\n",
    "apa_string_0 = \"A Mann-Whitney U test was performed to evaluate whether:\"\n",
    "apa_string_1 = \"answers to Q1, 2, 3, and 4 differed between the groups 0 and 1.\"\n",
    "apa_string_2 = \"The results indicated (1) that there was [no significant] difference for Q3 and 4.\"\n",
    "apa_string_3 = \"The results indicated (2) that there was [a significant!] difference for Q1 and 2.\"\n",
    "\n",
    "print(apa_string_0)\n",
    "print(apa_string_1)\n",
    "print(apa_string_2)\n",
    "print(apa_string_3)\n",
    "print(\" -- \")\n",
    "\n",
    "# Display p-values\n",
    "print(\"Mann-Whitney U Test P-Values:\")\n",
    "for question, (u_stat, p) in test_results.items():\n",
    "    print(f\"{question}: U = {u_stat:.2f}, p = {p:.4f}, significant: {p < 0.05}\")"
   ],
   "execution_count":6,
   "outputs":[
    {
     "name":"stdout",
     "text":[
      "A Mann-Whitney U test was performed to evaluate whether:\n",
      "answers to Q1, 2, 3, and 4 differed between the groups 0 and 1.\n",
      "The results indicated (1) that there was [no significant] difference for Q3 and 4.\n",
      "The results indicated (2) that there was [a significant!] difference for Q1 and 2.\n",
      " -- \n",
      "Mann-Whitney U Test P-Values:\n",
      "Q1: U = 301.50, p = 0.0000, significant: True\n",
      "Q2: U = 535.50, p = 0.0061, significant: True\n",
      "Q3: U = 748.00, p = 0.3510, significant: False\n",
      "Q4: U = 1001.50, p = 0.2235, significant: False\n"
     ],
     "output_type":"stream"
    }
   ],
   "metadata":{
    "datalore":{
     "node_id":"t1hpDPiTn2JDu4ihlyhVrN",
     "type":"CODE",
     "hide_input_from_viewers":true,
     "hide_output_from_viewers":true
    }
   }
  },
  {
   "cell_type":"code",
   "source":[
    
   ],
   "execution_count":0,
   "outputs":[
    
   ],
   "metadata":{
    "datalore":{
     "node_id":"VzA97Pr6U4AynbisKyvoXb",
     "type":"CODE",
     "hide_input_from_viewers":true,
     "hide_output_from_viewers":true
    }
   }
  },
  {
   "cell_type":"code",
   "source":[
    
   ],
   "execution_count":0,
   "outputs":[
    
   ],
   "metadata":{
    "datalore":{
     "node_id":"BFvGVh0fWTILuNUV2B0j19",
     "type":"CODE",
     "hide_input_from_viewers":true,
     "hide_output_from_viewers":true
    }
   }
  }
 ],
 "metadata":{
  "kernelspec":{
   "display_name":"Python",
   "language":"python",
   "name":"python"
  },
  "datalore":{
   "computation_mode":"JUPYTER",
   "package_manager":"pip",
   "base_environment":"default",
   "packages":[
    
   ],
   "report_row_ids":[
    
   ],
   "version":3
  }
 },
 "nbformat":4,
 "nbformat_minor":4
}